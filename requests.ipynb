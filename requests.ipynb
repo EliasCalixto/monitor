{
 "cells": [
  {
   "cell_type": "code",
   "execution_count": 1,
   "id": "884ec139-1ed8-44d5-8ebd-2221aba0f214",
   "metadata": {},
   "outputs": [],
   "source": [
    "from setup import *"
   ]
  },
  {
   "cell_type": "code",
   "execution_count": 2,
   "id": "588574d1-1041-47b9-921e-34f61f4addb8",
   "metadata": {},
   "outputs": [
    {
     "name": "stdout",
     "output_type": "stream",
     "text": [
      "Results since Resto 2022\n",
      "Investment: 15637.54 / 10.69%\n",
      "Productivity: 51690.44 / 35.35%\n",
      "Studies: 17277.32 / 11.82%\n",
      "Fixed: 8659.3 / 5.92%\n",
      "Clothes: 4409.43 / 3.02%\n",
      "10: 595 / 0.41%\n",
      "Enjoy: 10848.11 / 7.42%\n",
      "Others: 28575.72 / 19.54%\n",
      "Cashout: 8527.6 / 5.83%\n"
     ]
    }
   ],
   "source": [
    "data_to_graph = get_totals()"
   ]
  },
  {
   "cell_type": "code",
   "execution_count": 3,
   "id": "f0022b4a-a118-4b9c-9609-407bbe670ce3",
   "metadata": {},
   "outputs": [
    {
     "name": "stdout",
     "output_type": "stream",
     "text": [
      "[[15637.54, 51690.44, 17277.32, 8659.3, 4409.43, 595, 10848.11, 28575.72, 8527.6], [10.69, 35.35, 11.82, 5.92, 3.02, 0.41, 7.42, 19.54, 5.83]]\n"
     ]
    }
   ],
   "source": [
    "print(data_to_graph) # Totals / Percent"
   ]
  },
  {
   "cell_type": "code",
   "execution_count": 4,
   "id": "6889db55-d0d9-47d4-a6c7-cf4c30dce5d7",
   "metadata": {},
   "outputs": [
    {
     "name": "stdout",
     "output_type": "stream",
     "text": [
      "Results since Marzo 2025\n",
      "Investment: 0.0 / 0.0%\n",
      "Productivity: 48.0 / 2.43%\n",
      "Studies: 0.0 / 0.0%\n",
      "Fixed: 44.5 / 2.25%\n",
      "Clothes: 63.0 / 3.19%\n",
      "10: 0 / 0.0%\n",
      "Enjoy: 945.65 / 47.86%\n",
      "Others: 874.6 / 44.27%\n",
      "Cashout: 0.0 / 0.0%\n"
     ]
    },
    {
     "data": {
      "text/plain": [
       "[[0.0, 48.0, 0.0, 44.5, 63.0, 0, 945.65, 874.6, 0.0],\n",
       " [0.0, 2.43, 0.0, 2.25, 3.19, 0.0, 47.86, 44.27, 0.0]]"
      ]
     },
     "execution_count": 4,
     "metadata": {},
     "output_type": "execute_result"
    }
   ],
   "source": [
    "get_totals(67)"
   ]
  },
  {
   "cell_type": "code",
   "execution_count": null,
   "id": "b755b7ba-ad58-421d-b98e-451be4330ab8",
   "metadata": {},
   "outputs": [],
   "source": []
  }
 ],
 "metadata": {
  "kernelspec": {
   "display_name": "Python 3 (ipykernel)",
   "language": "python",
   "name": "python3"
  },
  "language_info": {
   "codemirror_mode": {
    "name": "ipython",
    "version": 3
   },
   "file_extension": ".py",
   "mimetype": "text/x-python",
   "name": "python",
   "nbconvert_exporter": "python",
   "pygments_lexer": "ipython3",
   "version": "3.11.5"
  }
 },
 "nbformat": 4,
 "nbformat_minor": 5
}
