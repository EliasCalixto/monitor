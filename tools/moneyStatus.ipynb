{
 "cells": [
  {
   "cell_type": "code",
   "execution_count": 2,
   "metadata": {},
   "outputs": [
    {
     "name": "stdout",
     "output_type": "stream",
     "text": [
      "2181.14/104.9/207.27\n",
      "2181.14\n"
     ]
    }
   ],
   "source": [
    "import numpy as np\n",
    "import pandas as pd\n",
    "\n",
    "\n",
    "try:\n",
    "    dataFrame = pd.read_excel(\"C:\\\\Users\\\\elias\\\\OneDrive\\\\Documentos\\\\Main.xlsx\", sheet_name='data')\n",
    "    allData = np.array(dataFrame)\n",
    "except:\n",
    "    dataFrame = pd.read_excel(\"/Users/darkesthj/Library/CloudStorage/OneDrive-Personal/Documentos/Main.xlsx\", sheet_name='data')\n",
    "    allData = np.array(dataFrame)\n",
    "\n",
    "def getCurrentMonth():\n",
    "    index = 0\n",
    "\n",
    "    while allData[:,0][index] != 0:\n",
    "        index += 1\n",
    "\n",
    "    currentMonth = allData[index-1]\n",
    "    \n",
    "    return currentMonth\n",
    "\n",
    "def getTotalBlue():\n",
    "    currentMonth = getCurrentMonth()\n",
    "    totalBlue = round(np.sum(currentMonth[1:3]),2)\n",
    "    return f'{totalBlue}'\n",
    "    \n",
    "def getTotalRed():\n",
    "    currentMonth = getCurrentMonth()\n",
    "    totalRed = round(np.sum(currentMonth[3:7]),2)\n",
    "    return f'{totalRed}'\n",
    "\n",
    "def getCurrentMoney():\n",
    "    currentMonth = getCurrentMonth()\n",
    "    currentMoney = round(currentMonth[8],2)\n",
    "    return f'{currentMoney}'\n",
    "    \n",
    "if __name__ == '__main__':\n",
    "    print(f'{getTotalBlue()}/{getTotalRed()}/{getCurrentMoney()}')\n",
    "    print(getTotalBlue())\n"
   ]
  },
  {
   "cell_type": "code",
   "execution_count": 3,
   "metadata": {},
   "outputs": [
    {
     "name": "stdout",
     "output_type": "stream",
     "text": [
      "2181.14\n"
     ]
    }
   ],
   "source": [
    "print(getTotalBlue())"
   ]
  }
 ],
 "metadata": {
  "kernelspec": {
   "display_name": "base",
   "language": "python",
   "name": "python3"
  },
  "language_info": {
   "codemirror_mode": {
    "name": "ipython",
    "version": 3
   },
   "file_extension": ".py",
   "mimetype": "text/x-python",
   "name": "python",
   "nbconvert_exporter": "python",
   "pygments_lexer": "ipython3",
   "version": "3.11.5"
  }
 },
 "nbformat": 4,
 "nbformat_minor": 2
}
