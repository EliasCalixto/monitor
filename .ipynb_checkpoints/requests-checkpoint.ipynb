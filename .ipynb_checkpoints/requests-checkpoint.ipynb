{
 "cells": [
  {
   "cell_type": "code",
   "execution_count": 56,
   "id": "ff945d8d-d3d0-4c5d-b8f8-9ef12c2e4bdd",
   "metadata": {},
   "outputs": [],
   "source": [
    "import pandas as pd\n",
    "import numpy as np\n",
    "\n",
    "\n",
    "main_path = \"/Users/darkesthj/Library/CloudStorage/OneDrive-Personal/Documentos/Main.xlsx\"\n",
    "df = pd.read_excel(main_path, sheet_name=\"DataRaw\")\n",
    "\n",
    "# Get Current Row\n",
    "current_row = 0\n",
    "counter = 0\n",
    "for i in range(len(df['Income'])):\n",
    "    if df['Income'][i] == 0:\n",
    "        counter += 1\n",
    "        current_row = i-counter\n",
    "\n",
    "# Get Totals\n",
    "def get_totals(date = 0):\n",
    "    \n",
    "    \n",
    "    total_investment = np.sum(df['Investment'][date:current_row+1])\n",
    "    total_productivity = np.sum(df['Productivity'][date:current_row+1])\n",
    "    total_studies = np.sum(df['Studies'][date:current_row+1])\n",
    "    total_fixed = np.sum(df['Fixed'][date:current_row+1])\n",
    "    total_clothes = np.sum(df['Clothes'][date:current_row+1])\n",
    "    total_10 = np.sum(df['10'][date:current_row+1])\n",
    "    total_food = np.sum(df['Food'][date:current_row+1])\n",
    "    total_others = np.sum(df['Others'][date:current_row+1])\n",
    "    total_cashout = np.sum(df['Cashout'][date:current_row+1])\n",
    "\n",
    "    group_of_totals = [total_investment, \n",
    "                       total_productivity, \n",
    "                       total_studies, \n",
    "                       total_fixed, \n",
    "                       total_clothes, \n",
    "                       total_10, \n",
    "                       total_food, \n",
    "                       total_others, \n",
    "                       total_cashout]\n",
    "\n",
    "    investment_percent = round((total_investment/np.sum(group_of_totals))*100, 2)\n",
    "    productivity_percent = round((total_productivity/np.sum(group_of_totals))*100, 2)\n",
    "    studies_percent = round((total_studies/np.sum(group_of_totals))*100, 2)\n",
    "    fixed_percent = round((total_fixed/np.sum(group_of_totals))*100, 2)\n",
    "    clothes_percent = round((total_clothes/np.sum(group_of_totals))*100, 2)\n",
    "    percent_10 = round((total_10/np.sum(group_of_totals))*100, 2)\n",
    "    food_percent = round((total_food/np.sum(group_of_totals))*100, 2)\n",
    "    others_percent = round((total_others/np.sum(group_of_totals))*100, 2)\n",
    "    cashout_percent = round((total_cashout/np.sum(group_of_totals))*100, 2)\n",
    "\n",
    "    print(f'Total Investment: {round(total_investment, 2)} / {investment_percent}%')\n",
    "    print(f'Total Productivity: {round(total_productivity, 2)} / {productivity_percent}%')\n",
    "    print(f'Total Studies: {round(total_studies, 2)} / {studies_percent}%')\n",
    "    print(f'Total Fixed: {round(total_fixed, 2)} / {fixed_percent}%')\n",
    "    print(f'Total Clothes: {round(total_clothes, 2)} / {clothes_percent}%')\n",
    "    print(f'Total 10: {round(total_10, 2)} / {percent_10}%')\n",
    "    print(f'Total Food: {round(total_food, 2)} / {food_percent}%')\n",
    "    print(f'Total Cashout: {round(total_cashout, 2)} / {cashout_percent}%')\n"
   ]
  },
  {
   "cell_type": "code",
   "execution_count": 57,
   "id": "f4a8a81f-baec-42de-aa07-e7b57f63bbb9",
   "metadata": {},
   "outputs": [
    {
     "name": "stdout",
     "output_type": "stream",
     "text": [
      "Total Investment: 7403.69 / 31.28\n",
      "Total Productivity: 6268.74 / 26.48\n",
      "Total Studies: 5217.0 / 22.04\n",
      "Total Fixed: 702.33 / 2.97\n",
      "Total Clothes: 403.77 / 1.71\n",
      "Total 10: 0 / 0.0\n",
      "Total Food: 1231.4 / 5.2\n",
      "Total Cashout: 612.06 / 2.59\n"
     ]
    }
   ],
   "source": [
    "get_totals(55)"
   ]
  }
 ],
 "metadata": {
  "kernelspec": {
   "display_name": "Python 3 (ipykernel)",
   "language": "python",
   "name": "python3"
  },
  "language_info": {
   "codemirror_mode": {
    "name": "ipython",
    "version": 3
   },
   "file_extension": ".py",
   "mimetype": "text/x-python",
   "name": "python",
   "nbconvert_exporter": "python",
   "pygments_lexer": "ipython3",
   "version": "3.11.5"
  }
 },
 "nbformat": 4,
 "nbformat_minor": 5
}
