{
 "cells": [
  {
   "cell_type": "code",
   "execution_count": 1,
   "id": "884ec139-1ed8-44d5-8ebd-2221aba0f214",
   "metadata": {},
   "outputs": [],
   "source": [
    "from setup import *"
   ]
  },
  {
   "cell_type": "code",
   "execution_count": 2,
   "id": "588574d1-1041-47b9-921e-34f61f4addb8",
   "metadata": {},
   "outputs": [
    {
     "name": "stdout",
     "output_type": "stream",
     "text": [
      "Results since Resto 2022\n",
      "Investment: 16637.54 / 11.64%\n",
      "Productivity: 56139.29 / 39.27%\n",
      "Studies: 17224.42 / 12.05%\n",
      "Fixed: 7602.28 / 5.32%\n",
      "Clothes: 4274.43 / 2.99%\n",
      "10: 290 / 0.2%\n",
      "Food: 9147.58 / 6.4%\n",
      "Others: 22978.35 / 16.07%\n",
      "Cashout: 8658.82 / 6.06%\n"
     ]
    }
   ],
   "source": [
    "data_to_graph = get_totals()"
   ]
  },
  {
   "cell_type": "code",
   "execution_count": 3,
   "id": "f0022b4a-a118-4b9c-9609-407bbe670ce3",
   "metadata": {},
   "outputs": [
    {
     "name": "stdout",
     "output_type": "stream",
     "text": [
      "[[16637.54, 56139.29, 17224.42, 7602.28, 4274.43, 290, 9147.58, 22978.35, 8658.82], [11.64, 39.27, 12.05, 5.32, 2.99, 0.2, 6.4, 16.07, 6.06]]\n"
     ]
    }
   ],
   "source": [
    "print(data_to_graph)"
   ]
  },
  {
   "cell_type": "code",
   "execution_count": null,
   "id": "6889db55-d0d9-47d4-a6c7-cf4c30dce5d7",
   "metadata": {},
   "outputs": [],
   "source": []
  }
 ],
 "metadata": {
  "kernelspec": {
   "display_name": "Python 3 (ipykernel)",
   "language": "python",
   "name": "python3"
  },
  "language_info": {
   "codemirror_mode": {
    "name": "ipython",
    "version": 3
   },
   "file_extension": ".py",
   "mimetype": "text/x-python",
   "name": "python",
   "nbconvert_exporter": "python",
   "pygments_lexer": "ipython3",
   "version": "3.11.5"
  }
 },
 "nbformat": 4,
 "nbformat_minor": 5
}
